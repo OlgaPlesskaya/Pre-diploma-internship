{
  "cells": [
    {
      "cell_type": "code",
      "execution_count": null,
      "metadata": {
        "colab": {
          "base_uri": "https://localhost:8080/"
        },
        "id": "gX2RAIhFL9E_",
        "outputId": "0357ff6f-2b8c-464b-b84c-065298ed7cc0"
      },
      "outputs": [
        {
          "output_type": "stream",
          "name": "stderr",
          "text": [
            "Downloading...\n",
            "From (original): https://drive.google.com/uc?id=1h9JfDqyPcrMqhQh7wFAMrszGT3UrDnVa\n",
            "From (redirected): https://drive.google.com/uc?id=1h9JfDqyPcrMqhQh7wFAMrszGT3UrDnVa&confirm=t&uuid=1e38b5bb-1744-4c29-8bee-c7652f582099\n",
            "To: /content/aug_dat_no_dup.csv\n",
            "100%|██████████| 160M/160M [00:01<00:00, 119MB/s]\n"
          ]
        },
        {
          "output_type": "stream",
          "name": "stdout",
          "text": [
            "                                                       О  topic_2,001  \\\n",
            "0      наталья иванова избрана главой плюсского муниц...         True   \n",
            "1      в ульяновской области идет подготовка ко второ...         True   \n",
            "2      у депутата просто болталка работает хорошо  во...         True   \n",
            "3        в керчи тоже нет отопления в школах садах холод         True   \n",
            "4        у меня двое ходят в старый допотопный сад   ...         True   \n",
            "...                                                  ...          ...   \n",
            "66857  речь бюджет если например вопрос о на поступле...        False   \n",
            "66858  которая посмотреть если отреагируют другие как...        False   \n",
            "66859  теста с местами можно посмотреть если в ответо...        False   \n",
            "66860             для ну не балла хватило желаемого вуза        False   \n",
            "66861                  и поступить бюджет на попробовать        False   \n",
            "\n",
            "       topic_2,002  topic_2,003  topic_2,004  topic_2,005  topic_2,006  \\\n",
            "0            False        False        False         True        False   \n",
            "1            False        False        False        False        False   \n",
            "2            False        False         True         True         True   \n",
            "3            False        False        False        False        False   \n",
            "4            False        False         True         True        False   \n",
            "...            ...          ...          ...          ...          ...   \n",
            "66857        False        False        False        False        False   \n",
            "66858        False        False        False        False        False   \n",
            "66859        False        False        False        False        False   \n",
            "66860        False        False        False        False        False   \n",
            "66861        False        False        False        False        False   \n",
            "\n",
            "       topic_2,007  topic_2,008  topic_2,009  ...  topic_2,124  topic_2,125  \\\n",
            "0            False        False        False  ...        False        False   \n",
            "1            False        False        False  ...        False        False   \n",
            "2            False        False        False  ...        False        False   \n",
            "3            False        False        False  ...        False        False   \n",
            "4            False        False        False  ...        False        False   \n",
            "...            ...          ...          ...  ...          ...          ...   \n",
            "66857        False        False        False  ...        False        False   \n",
            "66858        False        False        False  ...        False        False   \n",
            "66859        False        False        False  ...        False        False   \n",
            "66860        False        False        False  ...        False        False   \n",
            "66861        False        False        False  ...        False        False   \n",
            "\n",
            "       topic_2,126  topic_2,127  topic_2,128  topic_2,129  topic_2,13  \\\n",
            "0            False        False        False        False       False   \n",
            "1            False        False        False        False       False   \n",
            "2            False        False        False        False       False   \n",
            "3            False        False        False        False       False   \n",
            "4            False        False        False        False       False   \n",
            "...            ...          ...          ...          ...         ...   \n",
            "66857        False        False        False        False       False   \n",
            "66858        False        False        False        False       False   \n",
            "66859        False        False        False        False       False   \n",
            "66860        False        False        False        False       False   \n",
            "66861        False        False        False        False       False   \n",
            "\n",
            "       topic_2,131  topic_2,132  topic_2,133  \n",
            "0            False        False        False  \n",
            "1            False        False        False  \n",
            "2            False        False        False  \n",
            "3            False        False        False  \n",
            "4            False        False        False  \n",
            "...            ...          ...          ...  \n",
            "66857        False        False         True  \n",
            "66858        False        False         True  \n",
            "66859        False        False         True  \n",
            "66860        False        False         True  \n",
            "66861        False        False         True  \n",
            "\n",
            "[66862 rows x 133 columns]\n"
          ]
        }
      ],
      "source": [
        "import gdown\n",
        "import pandas as pd\n",
        "\n",
        "\n",
        "file_id = '1h9JfDqyPcrMqhQh7wFAMrszGT3UrDnVa'\n",
        "gdown.download(f'https://drive.google.com/uc?id={file_id}', 'aug_dat_no_dup.csv', quiet=False)\n",
        "df = pd.read_csv('aug_dat_no_dup.csv')\n",
        "print(df)"
      ]
    },
    {
      "cell_type": "code",
      "execution_count": null,
      "metadata": {
        "colab": {
          "base_uri": "https://localhost:8080/"
        },
        "id": "w9XO-thfOSKb",
        "outputId": "bf917a4a-6456-41d9-9ff1-cbf5b742dc30"
      },
      "outputs": [
        {
          "name": "stdout",
          "output_type": "stream",
          "text": [
            "Requirement already satisfied: transformers in /usr/local/lib/python3.11/dist-packages (4.51.3)\n",
            "Requirement already satisfied: filelock in /usr/local/lib/python3.11/dist-packages (from transformers) (3.18.0)\n",
            "Requirement already satisfied: huggingface-hub<1.0,>=0.30.0 in /usr/local/lib/python3.11/dist-packages (from transformers) (0.30.2)\n",
            "Requirement already satisfied: numpy>=1.17 in /usr/local/lib/python3.11/dist-packages (from transformers) (2.0.2)\n",
            "Requirement already satisfied: packaging>=20.0 in /usr/local/lib/python3.11/dist-packages (from transformers) (24.2)\n",
            "Requirement already satisfied: pyyaml>=5.1 in /usr/local/lib/python3.11/dist-packages (from transformers) (6.0.2)\n",
            "Requirement already satisfied: regex!=2019.12.17 in /usr/local/lib/python3.11/dist-packages (from transformers) (2024.11.6)\n",
            "Requirement already satisfied: requests in /usr/local/lib/python3.11/dist-packages (from transformers) (2.32.3)\n",
            "Requirement already satisfied: tokenizers<0.22,>=0.21 in /usr/local/lib/python3.11/dist-packages (from transformers) (0.21.1)\n",
            "Requirement already satisfied: safetensors>=0.4.3 in /usr/local/lib/python3.11/dist-packages (from transformers) (0.5.3)\n",
            "Requirement already satisfied: tqdm>=4.27 in /usr/local/lib/python3.11/dist-packages (from transformers) (4.67.1)\n",
            "Requirement already satisfied: fsspec>=2023.5.0 in /usr/local/lib/python3.11/dist-packages (from huggingface-hub<1.0,>=0.30.0->transformers) (2025.3.2)\n",
            "Requirement already satisfied: typing-extensions>=3.7.4.3 in /usr/local/lib/python3.11/dist-packages (from huggingface-hub<1.0,>=0.30.0->transformers) (4.13.2)\n",
            "Requirement already satisfied: charset-normalizer<4,>=2 in /usr/local/lib/python3.11/dist-packages (from requests->transformers) (3.4.1)\n",
            "Requirement already satisfied: idna<4,>=2.5 in /usr/local/lib/python3.11/dist-packages (from requests->transformers) (3.10)\n",
            "Requirement already satisfied: urllib3<3,>=1.21.1 in /usr/local/lib/python3.11/dist-packages (from requests->transformers) (2.3.0)\n",
            "Requirement already satisfied: certifi>=2017.4.17 in /usr/local/lib/python3.11/dist-packages (from requests->transformers) (2025.1.31)\n"
          ]
        }
      ],
      "source": [
        "!pip install transformers"
      ]
    },
    {
      "cell_type": "code",
      "execution_count": null,
      "metadata": {
        "colab": {
          "base_uri": "https://localhost:8080/",
          "height": 17,
          "referenced_widgets": [
            "eb2691426d9a43bf80d79f5165baeca8",
            "5196e4fd534e43c5be2fa87cf61a1650"
          ]
        },
        "id": "wRwjlDKlvMEu",
        "outputId": "dd55068d-eb30-4580-8fc8-31f311857d23"
      },
      "outputs": [
        {
          "data": {
            "application/vnd.jupyter.widget-view+json": {
              "model_id": "eb2691426d9a43bf80d79f5165baeca8",
              "version_major": 2,
              "version_minor": 0
            },
            "text/plain": [
              "VBox(children=(HTML(value='<center> <img\\nsrc=https://huggingface.co/front/assets/huggingface_logo-noborder.sv…"
            ]
          },
          "metadata": {},
          "output_type": "display_data"
        }
      ],
      "source": [
        "from huggingface_hub import login\n",
        "login()"
      ]
    },
    {
      "cell_type": "code",
      "execution_count": null,
      "metadata": {
        "colab": {
          "base_uri": "https://localhost:8080/",
          "height": 1000
        },
        "id": "prrDe9ppMGdc",
        "outputId": "d6081b92-6478-44b7-c526-e43267475793"
      },
      "outputs": [
        {
          "output_type": "stream",
          "name": "stderr",
          "text": [
            "Some weights of BertForSequenceClassification were not initialized from the model checkpoint at DeepPavlov/rubert-base-cased and are newly initialized: ['classifier.bias', 'classifier.weight']\n",
            "You should probably TRAIN this model on a down-stream task to be able to use it for predictions and inference.\n",
            "<ipython-input-10-79b1dc8046e5>:96: FutureWarning: `torch.cuda.amp.GradScaler(args...)` is deprecated. Please use `torch.amp.GradScaler('cuda', args...)` instead.\n",
            "  scaler = GradScaler()\n"
          ]
        },
        {
          "output_type": "stream",
          "name": "stdout",
          "text": [
            "Epoch 1/50\n"
          ]
        },
        {
          "output_type": "stream",
          "name": "stderr",
          "text": [
            "Training:   0%|          | 0/836 [00:00<?, ?it/s]<ipython-input-10-79b1dc8046e5>:113: FutureWarning: `torch.cuda.amp.autocast(args...)` is deprecated. Please use `torch.amp.autocast('cuda', args...)` instead.\n",
            "  with autocast():  # Включение смешанной точности\n",
            "Training: 100%|██████████| 836/836 [01:02<00:00, 13.41it/s, loss=0.0678]\n",
            "Evaluating: 100%|██████████| 209/209 [00:22<00:00,  9.20it/s]\n"
          ]
        },
        {
          "output_type": "stream",
          "name": "stdout",
          "text": [
            "Train Loss: 0.1227\n",
            "Test Accuracy: 0.8584, F1 Score: 0.0478, Precision: 0.0263, Recall: 0.2598, ROC-AUC: 0.6292\n",
            "Epoch 2/50\n"
          ]
        },
        {
          "output_type": "stream",
          "name": "stderr",
          "text": [
            "Training:   0%|          | 0/836 [00:00<?, ?it/s]<ipython-input-10-79b1dc8046e5>:113: FutureWarning: `torch.cuda.amp.autocast(args...)` is deprecated. Please use `torch.amp.autocast('cuda', args...)` instead.\n",
            "  with autocast():  # Включение смешанной точности\n",
            "Training: 100%|██████████| 836/836 [01:02<00:00, 13.47it/s, loss=0.0626]\n",
            "Evaluating: 100%|██████████| 209/209 [00:22<00:00,  9.24it/s]\n"
          ]
        },
        {
          "output_type": "stream",
          "name": "stdout",
          "text": [
            "Train Loss: 0.0698\n",
            "Test Accuracy: 0.6045, F1 Score: 0.0337, Precision: 0.0174, Recall: 0.5036, ROC-AUC: 0.7514\n",
            "Epoch 3/50\n"
          ]
        },
        {
          "output_type": "stream",
          "name": "stderr",
          "text": [
            "Training:   0%|          | 0/836 [00:00<?, ?it/s]<ipython-input-10-79b1dc8046e5>:113: FutureWarning: `torch.cuda.amp.autocast(args...)` is deprecated. Please use `torch.amp.autocast('cuda', args...)` instead.\n",
            "  with autocast():  # Включение смешанной точности\n",
            "Training: 100%|██████████| 836/836 [01:02<00:00, 13.39it/s, loss=0.062]\n",
            "Evaluating: 100%|██████████| 209/209 [00:22<00:00,  9.28it/s]\n"
          ]
        },
        {
          "output_type": "stream",
          "name": "stdout",
          "text": [
            "Train Loss: 0.0639\n",
            "Test Accuracy: 0.7150, F1 Score: 0.0483, Precision: 0.0253, Recall: 0.5285, ROC-AUC: 0.8187\n",
            "Epoch 4/50\n"
          ]
        },
        {
          "output_type": "stream",
          "name": "stderr",
          "text": [
            "Training:   0%|          | 0/836 [00:00<?, ?it/s]<ipython-input-10-79b1dc8046e5>:113: FutureWarning: `torch.cuda.amp.autocast(args...)` is deprecated. Please use `torch.amp.autocast('cuda', args...)` instead.\n",
            "  with autocast():  # Включение смешанной точности\n",
            "Training: 100%|██████████| 836/836 [01:02<00:00, 13.45it/s, loss=0.0513]\n",
            "Evaluating: 100%|██████████| 209/209 [00:22<00:00,  9.27it/s]\n"
          ]
        },
        {
          "output_type": "stream",
          "name": "stdout",
          "text": [
            "Train Loss: 0.0581\n",
            "Test Accuracy: 0.8855, F1 Score: 0.1135, Precision: 0.0635, Recall: 0.5353, ROC-AUC: 0.9033\n",
            "Epoch 5/50\n"
          ]
        },
        {
          "output_type": "stream",
          "name": "stderr",
          "text": [
            "Training:   0%|          | 0/836 [00:00<?, ?it/s]<ipython-input-10-79b1dc8046e5>:113: FutureWarning: `torch.cuda.amp.autocast(args...)` is deprecated. Please use `torch.amp.autocast('cuda', args...)` instead.\n",
            "  with autocast():  # Включение смешанной точности\n",
            "Training: 100%|██████████| 836/836 [01:02<00:00, 13.46it/s, loss=0.0543]\n",
            "Evaluating: 100%|██████████| 209/209 [00:22<00:00,  9.21it/s]\n"
          ]
        },
        {
          "output_type": "stream",
          "name": "stdout",
          "text": [
            "Train Loss: 0.0529\n",
            "Test Accuracy: 0.9256, F1 Score: 0.1729, Precision: 0.1019, Recall: 0.5678, ROC-AUC: 0.9374\n",
            "Epoch 6/50\n"
          ]
        },
        {
          "output_type": "stream",
          "name": "stderr",
          "text": [
            "Training:   0%|          | 0/836 [00:00<?, ?it/s]<ipython-input-10-79b1dc8046e5>:113: FutureWarning: `torch.cuda.amp.autocast(args...)` is deprecated. Please use `torch.amp.autocast('cuda', args...)` instead.\n",
            "  with autocast():  # Включение смешанной точности\n",
            "Training: 100%|██████████| 836/836 [01:01<00:00, 13.49it/s, loss=0.062]\n",
            "Evaluating: 100%|██████████| 209/209 [00:22<00:00,  9.20it/s]\n"
          ]
        },
        {
          "output_type": "stream",
          "name": "stdout",
          "text": [
            "Train Loss: 0.0481\n",
            "Test Accuracy: 0.9424, F1 Score: 0.2185, Precision: 0.1342, Recall: 0.5873, ROC-AUC: 0.9532\n",
            "Epoch 7/50\n"
          ]
        },
        {
          "output_type": "stream",
          "name": "stderr",
          "text": [
            "Training:   0%|          | 0/836 [00:00<?, ?it/s]<ipython-input-10-79b1dc8046e5>:113: FutureWarning: `torch.cuda.amp.autocast(args...)` is deprecated. Please use `torch.amp.autocast('cuda', args...)` instead.\n",
            "  with autocast():  # Включение смешанной точности\n",
            "Training: 100%|██████████| 836/836 [01:02<00:00, 13.44it/s, loss=0.045]\n",
            "Evaluating: 100%|██████████| 209/209 [00:22<00:00,  9.22it/s]\n"
          ]
        },
        {
          "output_type": "stream",
          "name": "stdout",
          "text": [
            "Train Loss: 0.0442\n",
            "Test Accuracy: 0.9560, F1 Score: 0.2631, Precision: 0.1707, Recall: 0.5735, ROC-AUC: 0.9615\n",
            "Epoch 8/50\n"
          ]
        },
        {
          "output_type": "stream",
          "name": "stderr",
          "text": [
            "Training:   0%|          | 0/836 [00:00<?, ?it/s]<ipython-input-10-79b1dc8046e5>:113: FutureWarning: `torch.cuda.amp.autocast(args...)` is deprecated. Please use `torch.amp.autocast('cuda', args...)` instead.\n",
            "  with autocast():  # Включение смешанной точности\n",
            "Training: 100%|██████████| 836/836 [01:02<00:00, 13.46it/s, loss=0.0452]\n",
            "Evaluating: 100%|██████████| 209/209 [00:22<00:00,  9.24it/s]\n"
          ]
        },
        {
          "output_type": "stream",
          "name": "stdout",
          "text": [
            "Train Loss: 0.0409\n",
            "Test Accuracy: 0.9628, F1 Score: 0.2971, Precision: 0.2005, Recall: 0.5734, ROC-AUC: 0.9682\n",
            "Epoch 9/50\n"
          ]
        },
        {
          "output_type": "stream",
          "name": "stderr",
          "text": [
            "Training:   0%|          | 0/836 [00:00<?, ?it/s]<ipython-input-10-79b1dc8046e5>:113: FutureWarning: `torch.cuda.amp.autocast(args...)` is deprecated. Please use `torch.amp.autocast('cuda', args...)` instead.\n",
            "  with autocast():  # Включение смешанной точности\n",
            "Training: 100%|██████████| 836/836 [01:02<00:00, 13.40it/s, loss=0.0342]\n",
            "Evaluating: 100%|██████████| 209/209 [00:22<00:00,  9.23it/s]\n"
          ]
        },
        {
          "output_type": "stream",
          "name": "stdout",
          "text": [
            "Train Loss: 0.0379\n",
            "Test Accuracy: 0.9685, F1 Score: 0.3346, Precision: 0.2355, Recall: 0.5774, ROC-AUC: 0.9720\n",
            "Epoch 10/50\n"
          ]
        },
        {
          "output_type": "stream",
          "name": "stderr",
          "text": [
            "Training:   0%|          | 0/836 [00:00<?, ?it/s]<ipython-input-10-79b1dc8046e5>:113: FutureWarning: `torch.cuda.amp.autocast(args...)` is deprecated. Please use `torch.amp.autocast('cuda', args...)` instead.\n",
            "  with autocast():  # Включение смешанной точности\n",
            "Training: 100%|██████████| 836/836 [01:02<00:00, 13.45it/s, loss=0.0315]\n",
            "Evaluating: 100%|██████████| 209/209 [00:22<00:00,  9.18it/s]\n"
          ]
        },
        {
          "output_type": "stream",
          "name": "stdout",
          "text": [
            "Train Loss: 0.0355\n",
            "Test Accuracy: 0.9716, F1 Score: 0.3711, Precision: 0.2665, Recall: 0.6111, ROC-AUC: 0.9739\n",
            "Epoch 11/50\n"
          ]
        },
        {
          "output_type": "stream",
          "name": "stderr",
          "text": [
            "Training:   0%|          | 0/836 [00:00<?, ?it/s]<ipython-input-10-79b1dc8046e5>:113: FutureWarning: `torch.cuda.amp.autocast(args...)` is deprecated. Please use `torch.amp.autocast('cuda', args...)` instead.\n",
            "  with autocast():  # Включение смешанной точности\n",
            "Training: 100%|██████████| 836/836 [01:02<00:00, 13.48it/s, loss=0.0289]\n",
            "Evaluating: 100%|██████████| 209/209 [00:22<00:00,  9.23it/s]\n"
          ]
        },
        {
          "output_type": "stream",
          "name": "stdout",
          "text": [
            "Train Loss: 0.0333\n",
            "Test Accuracy: 0.9749, F1 Score: 0.3950, Precision: 0.2951, Recall: 0.5972, ROC-AUC: 0.9756\n",
            "Epoch 12/50\n"
          ]
        },
        {
          "output_type": "stream",
          "name": "stderr",
          "text": [
            "Training:   0%|          | 0/836 [00:00<?, ?it/s]<ipython-input-10-79b1dc8046e5>:113: FutureWarning: `torch.cuda.amp.autocast(args...)` is deprecated. Please use `torch.amp.autocast('cuda', args...)` instead.\n",
            "  with autocast():  # Включение смешанной точности\n",
            "Training: 100%|██████████| 836/836 [01:02<00:00, 13.45it/s, loss=0.0443]\n",
            "Evaluating: 100%|██████████| 209/209 [00:22<00:00,  9.28it/s]\n"
          ]
        },
        {
          "output_type": "stream",
          "name": "stdout",
          "text": [
            "Train Loss: 0.0315\n",
            "Test Accuracy: 0.9771, F1 Score: 0.4162, Precision: 0.3196, Recall: 0.5964, ROC-AUC: 0.9776\n",
            "Epoch 13/50\n"
          ]
        },
        {
          "output_type": "stream",
          "name": "stderr",
          "text": [
            "Training:   0%|          | 0/836 [00:00<?, ?it/s]<ipython-input-10-79b1dc8046e5>:113: FutureWarning: `torch.cuda.amp.autocast(args...)` is deprecated. Please use `torch.amp.autocast('cuda', args...)` instead.\n",
            "  with autocast():  # Включение смешанной точности\n",
            "Training: 100%|██████████| 836/836 [01:02<00:00, 13.42it/s, loss=0.0268]\n",
            "Evaluating: 100%|██████████| 209/209 [00:22<00:00,  9.20it/s]\n"
          ]
        },
        {
          "output_type": "stream",
          "name": "stdout",
          "text": [
            "Train Loss: 0.0300\n",
            "Test Accuracy: 0.9792, F1 Score: 0.4410, Precision: 0.3486, Recall: 0.5998, ROC-AUC: 0.9778\n",
            "Epoch 14/50\n"
          ]
        },
        {
          "output_type": "stream",
          "name": "stderr",
          "text": [
            "Training:   0%|          | 0/836 [00:00<?, ?it/s]<ipython-input-10-79b1dc8046e5>:113: FutureWarning: `torch.cuda.amp.autocast(args...)` is deprecated. Please use `torch.amp.autocast('cuda', args...)` instead.\n",
            "  with autocast():  # Включение смешанной точности\n",
            "Training: 100%|██████████| 836/836 [01:02<00:00, 13.42it/s, loss=0.0247]\n",
            "Evaluating: 100%|██████████| 209/209 [00:22<00:00,  9.25it/s]\n"
          ]
        },
        {
          "output_type": "stream",
          "name": "stdout",
          "text": [
            "Train Loss: 0.0288\n",
            "Test Accuracy: 0.9809, F1 Score: 0.4662, Precision: 0.3774, Recall: 0.6097, ROC-AUC: 0.9786\n",
            "Epoch 15/50\n"
          ]
        },
        {
          "output_type": "stream",
          "name": "stderr",
          "text": [
            "Training:   0%|          | 0/836 [00:00<?, ?it/s]<ipython-input-10-79b1dc8046e5>:113: FutureWarning: `torch.cuda.amp.autocast(args...)` is deprecated. Please use `torch.amp.autocast('cuda', args...)` instead.\n",
            "  with autocast():  # Включение смешанной точности\n",
            "Training: 100%|██████████| 836/836 [01:02<00:00, 13.46it/s, loss=0.0352]\n",
            "Evaluating: 100%|██████████| 209/209 [00:22<00:00,  9.22it/s]\n"
          ]
        },
        {
          "output_type": "stream",
          "name": "stdout",
          "text": [
            "Train Loss: 0.0276\n",
            "Test Accuracy: 0.9810, F1 Score: 0.4677, Precision: 0.3789, Recall: 0.6108, ROC-AUC: 0.9797\n",
            "Epoch 16/50\n"
          ]
        },
        {
          "output_type": "stream",
          "name": "stderr",
          "text": [
            "Training:   0%|          | 0/836 [00:00<?, ?it/s]<ipython-input-10-79b1dc8046e5>:113: FutureWarning: `torch.cuda.amp.autocast(args...)` is deprecated. Please use `torch.amp.autocast('cuda', args...)` instead.\n",
            "  with autocast():  # Включение смешанной точности\n",
            "Training: 100%|██████████| 836/836 [01:02<00:00, 13.41it/s, loss=0.0283]\n",
            "Evaluating: 100%|██████████| 209/209 [00:22<00:00,  9.28it/s]\n"
          ]
        },
        {
          "output_type": "stream",
          "name": "stdout",
          "text": [
            "Train Loss: 0.0266\n",
            "Test Accuracy: 0.9817, F1 Score: 0.4751, Precision: 0.3915, Recall: 0.6041, ROC-AUC: 0.9802\n",
            "Epoch 17/50\n"
          ]
        },
        {
          "output_type": "stream",
          "name": "stderr",
          "text": [
            "Training:   0%|          | 0/836 [00:00<?, ?it/s]<ipython-input-10-79b1dc8046e5>:113: FutureWarning: `torch.cuda.amp.autocast(args...)` is deprecated. Please use `torch.amp.autocast('cuda', args...)` instead.\n",
            "  with autocast():  # Включение смешанной точности\n",
            "Training: 100%|██████████| 836/836 [01:02<00:00, 13.37it/s, loss=0.0267]\n",
            "Evaluating: 100%|██████████| 209/209 [00:22<00:00,  9.26it/s]\n"
          ]
        },
        {
          "output_type": "stream",
          "name": "stdout",
          "text": [
            "Train Loss: 0.0257\n",
            "Test Accuracy: 0.9826, F1 Score: 0.4813, Precision: 0.4075, Recall: 0.5878, ROC-AUC: 0.9805\n",
            "Epoch 18/50\n"
          ]
        },
        {
          "output_type": "stream",
          "name": "stderr",
          "text": [
            "Training:   0%|          | 0/836 [00:00<?, ?it/s]<ipython-input-10-79b1dc8046e5>:113: FutureWarning: `torch.cuda.amp.autocast(args...)` is deprecated. Please use `torch.amp.autocast('cuda', args...)` instead.\n",
            "  with autocast():  # Включение смешанной точности\n",
            "Training: 100%|██████████| 836/836 [01:02<00:00, 13.43it/s, loss=0.0252]\n",
            "Evaluating: 100%|██████████| 209/209 [00:22<00:00,  9.24it/s]\n"
          ]
        },
        {
          "output_type": "stream",
          "name": "stdout",
          "text": [
            "Train Loss: 0.0248\n",
            "Test Accuracy: 0.9827, F1 Score: 0.4919, Precision: 0.4116, Recall: 0.6112, ROC-AUC: 0.9811\n",
            "Epoch 19/50\n"
          ]
        },
        {
          "output_type": "stream",
          "name": "stderr",
          "text": [
            "Training:   0%|          | 0/836 [00:00<?, ?it/s]<ipython-input-10-79b1dc8046e5>:113: FutureWarning: `torch.cuda.amp.autocast(args...)` is deprecated. Please use `torch.amp.autocast('cuda', args...)` instead.\n",
            "  with autocast():  # Включение смешанной точности\n",
            "Training: 100%|██████████| 836/836 [01:02<00:00, 13.47it/s, loss=0.0219]\n",
            "Evaluating: 100%|██████████| 209/209 [00:22<00:00,  9.22it/s]\n"
          ]
        },
        {
          "output_type": "stream",
          "name": "stdout",
          "text": [
            "Train Loss: 0.0240\n",
            "Test Accuracy: 0.9840, F1 Score: 0.5064, Precision: 0.4393, Recall: 0.5978, ROC-AUC: 0.9810\n",
            "Epoch 20/50\n"
          ]
        },
        {
          "output_type": "stream",
          "name": "stderr",
          "text": [
            "Training:   0%|          | 0/836 [00:00<?, ?it/s]<ipython-input-10-79b1dc8046e5>:113: FutureWarning: `torch.cuda.amp.autocast(args...)` is deprecated. Please use `torch.amp.autocast('cuda', args...)` instead.\n",
            "  with autocast():  # Включение смешанной точности\n",
            "Training: 100%|██████████| 836/836 [01:02<00:00, 13.39it/s, loss=0.0242]\n",
            "Evaluating: 100%|██████████| 209/209 [00:22<00:00,  9.19it/s]\n"
          ]
        },
        {
          "output_type": "stream",
          "name": "stdout",
          "text": [
            "Train Loss: 0.0233\n",
            "Test Accuracy: 0.9843, F1 Score: 0.5074, Precision: 0.4457, Recall: 0.5890, ROC-AUC: 0.9815\n",
            "Epoch 21/50\n"
          ]
        },
        {
          "output_type": "stream",
          "name": "stderr",
          "text": [
            "Training:   0%|          | 0/836 [00:00<?, ?it/s]<ipython-input-10-79b1dc8046e5>:113: FutureWarning: `torch.cuda.amp.autocast(args...)` is deprecated. Please use `torch.amp.autocast('cuda', args...)` instead.\n",
            "  with autocast():  # Включение смешанной точности\n",
            "Training: 100%|██████████| 836/836 [01:02<00:00, 13.42it/s, loss=0.0208]\n",
            "Evaluating: 100%|██████████| 209/209 [00:22<00:00,  9.28it/s]\n"
          ]
        },
        {
          "output_type": "stream",
          "name": "stdout",
          "text": [
            "Train Loss: 0.0227\n",
            "Test Accuracy: 0.9849, F1 Score: 0.5190, Precision: 0.4605, Recall: 0.5944, ROC-AUC: 0.9807\n",
            "Epoch 22/50\n"
          ]
        },
        {
          "output_type": "stream",
          "name": "stderr",
          "text": [
            "Training:   0%|          | 0/836 [00:00<?, ?it/s]<ipython-input-10-79b1dc8046e5>:113: FutureWarning: `torch.cuda.amp.autocast(args...)` is deprecated. Please use `torch.amp.autocast('cuda', args...)` instead.\n",
            "  with autocast():  # Включение смешанной точности\n",
            "Training: 100%|██████████| 836/836 [01:02<00:00, 13.40it/s, loss=0.023]\n",
            "Evaluating: 100%|██████████| 209/209 [00:22<00:00,  9.18it/s]\n"
          ]
        },
        {
          "output_type": "stream",
          "name": "stdout",
          "text": [
            "Train Loss: 0.0222\n",
            "Test Accuracy: 0.9852, F1 Score: 0.5230, Precision: 0.4682, Recall: 0.5924, ROC-AUC: 0.9813\n",
            "Epoch 23/50\n"
          ]
        },
        {
          "output_type": "stream",
          "name": "stderr",
          "text": [
            "Training:   0%|          | 0/836 [00:00<?, ?it/s]<ipython-input-10-79b1dc8046e5>:113: FutureWarning: `torch.cuda.amp.autocast(args...)` is deprecated. Please use `torch.amp.autocast('cuda', args...)` instead.\n",
            "  with autocast():  # Включение смешанной точности\n",
            "Training: 100%|██████████| 836/836 [01:02<00:00, 13.41it/s, loss=0.022]\n",
            "Evaluating: 100%|██████████| 209/209 [00:22<00:00,  9.20it/s]\n"
          ]
        },
        {
          "output_type": "stream",
          "name": "stdout",
          "text": [
            "Train Loss: 0.0216\n",
            "Test Accuracy: 0.9852, F1 Score: 0.5257, Precision: 0.4673, Recall: 0.6007, ROC-AUC: 0.9811\n",
            "Epoch 24/50\n"
          ]
        },
        {
          "output_type": "stream",
          "name": "stderr",
          "text": [
            "Training:   0%|          | 0/836 [00:00<?, ?it/s]<ipython-input-10-79b1dc8046e5>:113: FutureWarning: `torch.cuda.amp.autocast(args...)` is deprecated. Please use `torch.amp.autocast('cuda', args...)` instead.\n",
            "  with autocast():  # Включение смешанной точности\n",
            "Training: 100%|██████████| 836/836 [01:02<00:00, 13.41it/s, loss=0.0266]\n",
            "Evaluating: 100%|██████████| 209/209 [00:22<00:00,  9.17it/s]\n"
          ]
        },
        {
          "output_type": "stream",
          "name": "stdout",
          "text": [
            "Train Loss: 0.0209\n",
            "Test Accuracy: 0.9853, F1 Score: 0.5238, Precision: 0.4697, Recall: 0.5919, ROC-AUC: 0.9816\n",
            "Epoch 25/50\n"
          ]
        },
        {
          "output_type": "stream",
          "name": "stderr",
          "text": [
            "Training:   0%|          | 0/836 [00:00<?, ?it/s]<ipython-input-10-79b1dc8046e5>:113: FutureWarning: `torch.cuda.amp.autocast(args...)` is deprecated. Please use `torch.amp.autocast('cuda', args...)` instead.\n",
            "  with autocast():  # Включение смешанной точности\n",
            "Training: 100%|██████████| 836/836 [01:02<00:00, 13.47it/s, loss=0.0148]\n",
            "Evaluating: 100%|██████████| 209/209 [00:22<00:00,  9.19it/s]\n"
          ]
        },
        {
          "output_type": "stream",
          "name": "stdout",
          "text": [
            "Train Loss: 0.0205\n",
            "Test Accuracy: 0.9852, F1 Score: 0.5296, Precision: 0.4682, Recall: 0.6096, ROC-AUC: 0.9819\n",
            "Epoch 26/50\n"
          ]
        },
        {
          "output_type": "stream",
          "name": "stderr",
          "text": [
            "Training:   0%|          | 0/836 [00:00<?, ?it/s]<ipython-input-10-79b1dc8046e5>:113: FutureWarning: `torch.cuda.amp.autocast(args...)` is deprecated. Please use `torch.amp.autocast('cuda', args...)` instead.\n",
            "  with autocast():  # Включение смешанной точности\n",
            "Training: 100%|██████████| 836/836 [01:02<00:00, 13.40it/s, loss=0.0202]\n",
            "Evaluating: 100%|██████████| 209/209 [00:22<00:00,  9.26it/s]\n"
          ]
        },
        {
          "output_type": "stream",
          "name": "stdout",
          "text": [
            "Train Loss: 0.0200\n",
            "Test Accuracy: 0.9856, F1 Score: 0.5329, Precision: 0.4806, Recall: 0.5980, ROC-AUC: 0.9815\n",
            "Epoch 27/50\n"
          ]
        },
        {
          "output_type": "stream",
          "name": "stderr",
          "text": [
            "Training:   0%|          | 0/836 [00:00<?, ?it/s]<ipython-input-10-79b1dc8046e5>:113: FutureWarning: `torch.cuda.amp.autocast(args...)` is deprecated. Please use `torch.amp.autocast('cuda', args...)` instead.\n",
            "  with autocast():  # Включение смешанной точности\n",
            "Training: 100%|██████████| 836/836 [01:02<00:00, 13.39it/s, loss=0.022]\n",
            "Evaluating: 100%|██████████| 209/209 [00:22<00:00,  9.25it/s]\n"
          ]
        },
        {
          "output_type": "stream",
          "name": "stdout",
          "text": [
            "Train Loss: 0.0197\n",
            "Test Accuracy: 0.9855, F1 Score: 0.5349, Precision: 0.4774, Recall: 0.6081, ROC-AUC: 0.9819\n",
            "Epoch 28/50\n"
          ]
        },
        {
          "output_type": "stream",
          "name": "stderr",
          "text": [
            "Training:   0%|          | 0/836 [00:00<?, ?it/s]<ipython-input-10-79b1dc8046e5>:113: FutureWarning: `torch.cuda.amp.autocast(args...)` is deprecated. Please use `torch.amp.autocast('cuda', args...)` instead.\n",
            "  with autocast():  # Включение смешанной точности\n",
            "Training: 100%|██████████| 836/836 [01:02<00:00, 13.45it/s, loss=0.0161]\n",
            "Evaluating: 100%|██████████| 209/209 [00:22<00:00,  9.20it/s]\n"
          ]
        },
        {
          "output_type": "stream",
          "name": "stdout",
          "text": [
            "Train Loss: 0.0192\n",
            "Test Accuracy: 0.9848, F1 Score: 0.5282, Precision: 0.4602, Recall: 0.6197, ROC-AUC: 0.9819\n",
            "Epoch 29/50\n"
          ]
        },
        {
          "output_type": "stream",
          "name": "stderr",
          "text": [
            "Training:   0%|          | 0/836 [00:00<?, ?it/s]<ipython-input-10-79b1dc8046e5>:113: FutureWarning: `torch.cuda.amp.autocast(args...)` is deprecated. Please use `torch.amp.autocast('cuda', args...)` instead.\n",
            "  with autocast():  # Включение смешанной точности\n",
            "Training: 100%|██████████| 836/836 [01:02<00:00, 13.38it/s, loss=0.0203]\n",
            "Evaluating: 100%|██████████| 209/209 [00:22<00:00,  9.21it/s]\n"
          ]
        },
        {
          "output_type": "stream",
          "name": "stdout",
          "text": [
            "Train Loss: 0.0187\n",
            "Test Accuracy: 0.9857, F1 Score: 0.5353, Precision: 0.4815, Recall: 0.6027, ROC-AUC: 0.9815\n",
            "Epoch 30/50\n"
          ]
        },
        {
          "output_type": "stream",
          "name": "stderr",
          "text": [
            "Training:   0%|          | 0/836 [00:00<?, ?it/s]<ipython-input-10-79b1dc8046e5>:113: FutureWarning: `torch.cuda.amp.autocast(args...)` is deprecated. Please use `torch.amp.autocast('cuda', args...)` instead.\n",
            "  with autocast():  # Включение смешанной точности\n",
            "Training: 100%|██████████| 836/836 [01:02<00:00, 13.37it/s, loss=0.0177]\n",
            "Evaluating: 100%|██████████| 209/209 [00:22<00:00,  9.21it/s]\n"
          ]
        },
        {
          "output_type": "stream",
          "name": "stdout",
          "text": [
            "Train Loss: 0.0184\n",
            "Test Accuracy: 0.9849, F1 Score: 0.5292, Precision: 0.4619, Recall: 0.6195, ROC-AUC: 0.9810\n",
            "Epoch 31/50\n"
          ]
        },
        {
          "output_type": "stream",
          "name": "stderr",
          "text": [
            "Training:   0%|          | 0/836 [00:00<?, ?it/s]<ipython-input-10-79b1dc8046e5>:113: FutureWarning: `torch.cuda.amp.autocast(args...)` is deprecated. Please use `torch.amp.autocast('cuda', args...)` instead.\n",
            "  with autocast():  # Включение смешанной точности\n",
            "Training: 100%|██████████| 836/836 [01:02<00:00, 13.45it/s, loss=0.0182]\n",
            "Evaluating: 100%|██████████| 209/209 [00:22<00:00,  9.20it/s]\n"
          ]
        },
        {
          "output_type": "stream",
          "name": "stdout",
          "text": [
            "Train Loss: 0.0180\n",
            "Test Accuracy: 0.9848, F1 Score: 0.5302, Precision: 0.4590, Recall: 0.6275, ROC-AUC: 0.9815\n",
            "Epoch 32/50\n"
          ]
        },
        {
          "output_type": "stream",
          "name": "stderr",
          "text": [
            "Training:   0%|          | 0/836 [00:00<?, ?it/s]<ipython-input-10-79b1dc8046e5>:113: FutureWarning: `torch.cuda.amp.autocast(args...)` is deprecated. Please use `torch.amp.autocast('cuda', args...)` instead.\n",
            "  with autocast():  # Включение смешанной точности\n",
            "Training: 100%|██████████| 836/836 [01:02<00:00, 13.42it/s, loss=0.0147]\n",
            "Evaluating: 100%|██████████| 209/209 [00:22<00:00,  9.23it/s]\n"
          ]
        },
        {
          "output_type": "stream",
          "name": "stdout",
          "text": [
            "Train Loss: 0.0177\n",
            "Test Accuracy: 0.9857, F1 Score: 0.5354, Precision: 0.4830, Recall: 0.6006, ROC-AUC: 0.9813\n",
            "Epoch 33/50\n"
          ]
        },
        {
          "output_type": "stream",
          "name": "stderr",
          "text": [
            "Training:   0%|          | 0/836 [00:00<?, ?it/s]<ipython-input-10-79b1dc8046e5>:113: FutureWarning: `torch.cuda.amp.autocast(args...)` is deprecated. Please use `torch.amp.autocast('cuda', args...)` instead.\n",
            "  with autocast():  # Включение смешанной точности\n",
            "Training: 100%|██████████| 836/836 [01:02<00:00, 13.36it/s, loss=0.0175]\n",
            "Evaluating: 100%|██████████| 209/209 [00:22<00:00,  9.22it/s]\n"
          ]
        },
        {
          "output_type": "stream",
          "name": "stdout",
          "text": [
            "Train Loss: 0.0172\n",
            "Test Accuracy: 0.9848, F1 Score: 0.5209, Precision: 0.4578, Recall: 0.6043, ROC-AUC: 0.9815\n",
            "Epoch 34/50\n"
          ]
        },
        {
          "output_type": "stream",
          "name": "stderr",
          "text": [
            "Training:   0%|          | 0/836 [00:00<?, ?it/s]<ipython-input-10-79b1dc8046e5>:113: FutureWarning: `torch.cuda.amp.autocast(args...)` is deprecated. Please use `torch.amp.autocast('cuda', args...)` instead.\n",
            "  with autocast():  # Включение смешанной точности\n",
            "Training: 100%|██████████| 836/836 [01:02<00:00, 13.36it/s, loss=0.0188]\n",
            "Evaluating: 100%|██████████| 209/209 [00:22<00:00,  9.21it/s]\n"
          ]
        },
        {
          "output_type": "stream",
          "name": "stdout",
          "text": [
            "Train Loss: 0.0169\n",
            "Test Accuracy: 0.9855, F1 Score: 0.5328, Precision: 0.4760, Recall: 0.6050, ROC-AUC: 0.9803\n",
            "Epoch 35/50\n"
          ]
        },
        {
          "output_type": "stream",
          "name": "stderr",
          "text": [
            "Training:   0%|          | 0/836 [00:00<?, ?it/s]<ipython-input-10-79b1dc8046e5>:113: FutureWarning: `torch.cuda.amp.autocast(args...)` is deprecated. Please use `torch.amp.autocast('cuda', args...)` instead.\n",
            "  with autocast():  # Включение смешанной точности\n",
            "Training: 100%|██████████| 836/836 [01:02<00:00, 13.44it/s, loss=0.0164]\n",
            "Evaluating: 100%|██████████| 209/209 [00:22<00:00,  9.20it/s]\n"
          ]
        },
        {
          "output_type": "stream",
          "name": "stdout",
          "text": [
            "Train Loss: 0.0166\n",
            "Test Accuracy: 0.9851, F1 Score: 0.5316, Precision: 0.4666, Recall: 0.6177, ROC-AUC: 0.9810\n",
            "Ранняя остановка.\n"
          ]
        },
        {
          "output_type": "display_data",
          "data": {
            "text/plain": [
              "<Figure size 1200x600 with 2 Axes>"
            ],
            "image/png": "[encoded data removed]"
          },
          "metadata": {}
        }
      ],
      "source": [
        "import pandas as pd\n",
        "import numpy as np\n",
        "from sklearn.model_selection import train_test_split\n",
        "from transformers import BertTokenizer, BertForSequenceClassification, BertConfig\n",
        "from torch.utils.data import DataLoader, Dataset\n",
        "import torch\n",
        "from torch.nn import BCEWithLogitsLoss\n",
        "from torch.optim import AdamW\n",
        "from sklearn.metrics import accuracy_score, f1_score, precision_score, recall_score, roc_auc_score\n",
        "from tqdm import tqdm\n",
        "import matplotlib.pyplot as plt\n",
        "from torch.cuda.amp import autocast, GradScaler  # Добавлено для смешанной точности\n",
        "\n",
        "# 1. Загрузка данных (осталось без изменений)\n",
        "data = pd.read_csv(\"aug_dat_no_dup.csv\")\n",
        "data = data.dropna(subset=[data.columns[0]])\n",
        "data.iloc[:, 0] = data.iloc[:, 0].astype(str)\n",
        "\n",
        "texts = data.iloc[:, 0].values\n",
        "labels = data.iloc[:, 1:].values\n",
        "\n",
        "train_texts, test_texts, train_labels, test_labels = train_test_split(\n",
        "    texts, labels, test_size=0.2, random_state=42\n",
        ")\n",
        "\n",
        "# 2. Токенизация (осталось без изменений)\n",
        "tokenizer = BertTokenizer.from_pretrained(\"DeepPavlov/rubert-base-cased\")\n",
        "\n",
        "class TextDataset(Dataset):\n",
        "    def __init__(self, texts, labels, tokenizer, max_length=150):\n",
        "        self.texts = texts\n",
        "        self.labels = labels\n",
        "        self.tokenizer = tokenizer\n",
        "        self.max_length = max_length\n",
        "\n",
        "    def __len__(self):\n",
        "        return len(self.texts)\n",
        "\n",
        "    def __getitem__(self, idx):\n",
        "        text = self.texts[idx]\n",
        "        labels = self.labels[idx]\n",
        "\n",
        "        if not isinstance(text, str):\n",
        "            text = str(text)\n",
        "\n",
        "        encoding = self.tokenizer(\n",
        "            text,\n",
        "            padding=\"max_length\",\n",
        "            truncation=True,\n",
        "            max_length=self.max_length,\n",
        "            return_tensors=\"pt\"\n",
        "        )\n",
        "\n",
        "        return {\n",
        "            \"input_ids\": encoding[\"input_ids\"].squeeze(0),\n",
        "            \"attention_mask\": encoding[\"attention_mask\"].squeeze(0),\n",
        "            \"labels\": torch.tensor(labels, dtype=torch.float)\n",
        "        }\n",
        "\n",
        "# 3. Ускорение загрузки данных\n",
        "train_dataset = TextDataset(train_texts, train_labels, tokenizer)\n",
        "test_dataset = TextDataset(test_texts, test_labels, tokenizer)\n",
        "\n",
        "train_loader = DataLoader(\n",
        "    train_dataset,\n",
        "    batch_size=64,\n",
        "    shuffle=True,\n",
        "    num_workers=8,          # Добавлено: параллельная загрузка\n",
        "    pin_memory=True         # Добавлено: ускорение копирования в GPU\n",
        ")\n",
        "test_loader = DataLoader(\n",
        "    test_dataset,\n",
        "    batch_size=64,\n",
        "    shuffle=False,\n",
        "    num_workers=8,\n",
        "    pin_memory=True\n",
        ")\n",
        "\n",
        "# 4. Создание модели (осталось без изменений)\n",
        "config = BertConfig.from_pretrained(\"DeepPavlov/rubert-base-cased\", num_labels=132)\n",
        "config.hidden_dropout_prob = 0.3\n",
        "config.attention_probs_dropout_prob = 0.3\n",
        "\n",
        "model = BertForSequenceClassification.from_pretrained(\n",
        "    \"DeepPavlov/rubert-base-cased\",\n",
        "    config=config\n",
        ")\n",
        "\n",
        "device = torch.device(\"cuda\" if torch.cuda.is_available() else \"cpu\")\n",
        "model.to(device)\n",
        "\n",
        "if torch.cuda.device_count() > 1:  # Автоматическое распределение на все GPU\n",
        "    model = torch.nn.DataParallel(model)\n",
        "\n",
        "# 5. Добавлено: смешанная точность\n",
        "scaler = GradScaler()\n",
        "\n",
        "optimizer = AdamW(model.parameters(), lr=2e-5)\n",
        "loss_fn = BCEWithLogitsLoss()\n",
        "\n",
        "def train_epoch(model, dataloader, optimizer, loss_fn, device):\n",
        "    model.train()\n",
        "    total_loss = 0\n",
        "\n",
        "    progress_bar = tqdm(dataloader, desc=\"Training\", leave=True)\n",
        "    for batch in progress_bar:\n",
        "        input_ids = batch[\"input_ids\"].to(device)\n",
        "        attention_mask = batch[\"attention_mask\"].to(device)\n",
        "        labels = batch[\"labels\"].to(device)\n",
        "\n",
        "        optimizer.zero_grad()\n",
        "\n",
        "        with autocast():  # Включение смешанной точности\n",
        "            outputs = model(input_ids=input_ids, attention_mask=attention_mask)\n",
        "            logits = outputs.logits\n",
        "            loss = loss_fn(logits, labels)\n",
        "\n",
        "        scaler.scale(loss).backward()  # Используем scaler\n",
        "        scaler.step(optimizer)\n",
        "        scaler.update()\n",
        "        optimizer.zero_grad()  # Добавлено для чистоты\n",
        "\n",
        "        total_loss += loss.item()\n",
        "        progress_bar.set_postfix(loss=loss.item())\n",
        "\n",
        "    return total_loss / len(dataloader)\n",
        "\n",
        "# 6. Остальная часть кода остается без изменений\n",
        "def evaluate_model(model, dataloader, device):\n",
        "    model.eval()\n",
        "    all_preds = []\n",
        "    all_probs = []\n",
        "    all_labels = []\n",
        "\n",
        "    progress_bar = tqdm(dataloader, desc=\"Evaluating\", leave=True)\n",
        "    with torch.no_grad():\n",
        "        for batch in progress_bar:\n",
        "            input_ids = batch[\"input_ids\"].to(device)\n",
        "            attention_mask = batch[\"attention_mask\"].to(device)\n",
        "            labels = batch[\"labels\"].to(device)\n",
        "\n",
        "            outputs = model(input_ids=input_ids, attention_mask=attention_mask)\n",
        "            logits = outputs.logits\n",
        "\n",
        "            probs = torch.sigmoid(logits).cpu().numpy()\n",
        "            preds = (probs > (probs.max(axis=1, keepdims=True) * 0.5)).astype(int)\n",
        "\n",
        "            all_probs.extend(probs)\n",
        "            all_preds.extend(preds)\n",
        "            all_labels.extend(labels.cpu().numpy())\n",
        "\n",
        "    all_preds = np.array(all_preds)\n",
        "    all_probs = np.array(all_probs)\n",
        "    all_labels = np.array(all_labels)\n",
        "\n",
        "    accuracy = accuracy_score(all_labels.flatten(), all_preds.flatten())\n",
        "    f1 = f1_score(all_labels, all_preds, average=\"micro\")\n",
        "    precision = precision_score(all_labels, all_preds, average=\"micro\")\n",
        "    recall = recall_score(all_labels, all_preds, average=\"micro\")\n",
        "    roc_auc = roc_auc_score(all_labels, all_probs, average=\"micro\")\n",
        "\n",
        "    return accuracy, f1, precision, recall, roc_auc\n",
        "\n",
        "# Для хранения метрик и обучение (осталось без изменений)\n",
        "train_losses = []\n",
        "test_accuracies = []\n",
        "test_f1_scores = []\n",
        "\n",
        "best_f1 = 0\n",
        "patience = 3\n",
        "no_improvement_epochs = 0\n",
        "\n",
        "for epoch in range(50):\n",
        "    print(f\"Epoch {epoch + 1}/50\")\n",
        "    train_loss = train_epoch(model, train_loader, optimizer, loss_fn, device)\n",
        "    accuracy, f1, precision, recall, roc_auc = evaluate_model(model, test_loader, device)\n",
        "\n",
        "    train_losses.append(train_loss)\n",
        "    test_accuracies.append(accuracy)\n",
        "    test_f1_scores.append(f1)\n",
        "\n",
        "    print(f\"Train Loss: {train_loss:.4f}\")\n",
        "    print(f\"Test Accuracy: {accuracy:.4f}, F1 Score: {f1:.4f}, Precision: {precision:.4f}, Recall: {recall:.4f}, ROC-AUC: {roc_auc:.4f}\")\n",
        "\n",
        "    if f1 > best_f1:\n",
        "        best_f1 = f1\n",
        "        model.save_pretrained(\"./rubert_multilabel_classifier_best\")\n",
        "        tokenizer.save_pretrained(\"./rubert_multilabel_classifier_best\")\n",
        "        no_improvement_epochs = 0\n",
        "    else:\n",
        "        no_improvement_epochs += 1\n",
        "\n",
        "    if no_improvement_epochs >= patience:\n",
        "        print(\"Ранняя остановка.\")\n",
        "        break\n",
        "\n",
        "# Графики обучения (осталось без изменений)\n",
        "plt.figure(figsize=(12, 6))\n",
        "\n",
        "plt.subplot(1, 2, 1)\n",
        "plt.plot(range(1, len(train_losses) + 1), train_losses, label=\"Train Loss\", marker='o')\n",
        "plt.title(\"Training Loss\")\n",
        "plt.xlabel(\"Epoch\")\n",
        "plt.ylabel(\"Loss\")\n",
        "plt.legend()\n",
        "\n",
        "plt.subplot(1, 2, 2)\n",
        "plt.plot(range(1, len(test_accuracies) + 1), test_accuracies, label=\"Test Accuracy\", marker='o')\n",
        "plt.plot(range(1, len(test_f1_scores) + 1), test_f1_scores, label=\"Test F1 Score\", marker='o')\n",
        "plt.title(\"Test Metrics\")\n",
        "plt.xlabel(\"Epoch\")\n",
        "plt.ylabel(\"Metric Value\")\n",
        "plt.legend()\n",
        "\n",
        "plt.tight_layout()\n",
        "plt.show()"
      ]
    },
    {
      "cell_type": "code",
      "execution_count": null,
      "metadata": {
        "colab": {
          "base_uri": "https://localhost:8080/"
        },
        "id": "qgar4P_FroT_",
        "outputId": "77d9ac17-82af-499c-d841-4c74ad4fcddf"
      },
      "outputs": [
        {
          "name": "stdout",
          "output_type": "stream",
          "text": [
            "Сохранение модели и токенизатора в './rubert_multilabel_classifier_best'...\n",
            "Сохранение завершено.\n"
          ]
        }
      ],
      "source": [
        "def save_model_and_tokenizer(model, tokenizer, save_path):\n",
        "    \"\"\"\n",
        "    Сохраняет модель и токенизатор в указанную директорию.\n",
        "\n",
        "    :param model: Модель для сохранения.\n",
        "    :param tokenizer: Токенизатор для сохранения.\n",
        "    :param save_path: Путь для сохранения.\n",
        "    \"\"\"\n",
        "    print(f\"Сохранение модели и токенизатора в '{save_path}'...\")\n",
        "    model.save_pretrained(save_path)\n",
        "    tokenizer.save_pretrained(save_path)\n",
        "    print(\"Сохранение завершено.\")\n",
        "\n",
        "# Вызов функции сохранения\n",
        "save_model_and_tokenizer(model, tokenizer, \"./rubert_multilabel_classifier_best\")"
      ]
    },
    {
      "cell_type": "code",
      "execution_count": null,
      "metadata": {
        "colab": {
          "base_uri": "https://localhost:8080/"
        },
        "id": "1CuokTNOJ6lR",
        "outputId": "6cf64d5b-3c60-4c37-ec6f-a472cbea1472"
      },
      "outputs": [
        {
          "output_type": "stream",
          "name": "stdout",
          "text": [
            "Ошибка при загрузке модели: Repo id must be in the form 'repo_name' or 'namespace/repo_name': '/content/rubert_multilabel_classifier'. Use `repo_type` argument if needed.\n",
            "\n",
            "Введите текст для классификации (или 'exit' для выхода):\n",
            ">> Начну с самого начала. В ноябре 2020 года в разгар всем известной пандемии наша семья (я, муж и две дочки) переехала из Выборгского района Санкт-Петербурга в Приморский. В Выборгском мои девочки (им 2 года и 5 лет) посещали прекрасный детский сад 32 рядом с домом, вернее до сих пор посещают, ведь в Приморском районе известная всем нехватка детских садов. Я знала, что перевод из сада в сад будет трудным, но даже не предполагала, что в моем мире наступит ад. 12.11.2020 г. я подала заявления на перевод в детский сад Приморского района (выбрала целых три сада в близкой доступности от дома, у некоторых из них даже по два участка) из другого района Санкт-Петербурга. Комиссия по комплектованию поставила девочек в общую очередь (а все в курсе, что понятие очереди в этом вопросе вообще незаконно??) для распределения с нового учебного года, а это почти через год (год, Карл!). Я написала заявление в отдел образования, что физически, финансово и морально продолжать возить детей на двух автобусах с пересадками (в среднем 1,5 часа в одну сторону) в детский сад Выборгского района тяжело, и бинго! нам предложили детский сад в 5 км от дома. Я все гадала, как же лучше его посещать – 5 км с двумя детьми пешком или вновь в час-пик на общественном транспорте ездить?! Привет, пандемия! Да, к слову, моя младшая дочь в свои 2 года официально переболела covid-19. Кстати, тут сразу еще одна задачка в голове: Если взрослый ходит со скоростью в среднем 5 км/час, то сколько времени это займет у ребенка в 2 года?\n",
            "\n",
            "Адаптивный порог: 0.6700\n",
            "Активные метки:\n",
            "- topic_5 (вероятность: 0.9571)\n",
            "- topic_6 (вероятность: 0.7335)\n",
            "\n",
            "Введите текст для классификации (или 'exit' для выхода):\n",
            ">> Итак, предметы выбраны. ВУЗы тоже. А дальше самое весёлое... Начинаем решать заочные туры НА ВСЕ олимпиады по подходящим предметам. Олимпиада по физике СПбГУ, олимпиада по математике ИТМО, Покори Воробьёвы Горы и Ломоносов от МГУ, Росатом от МИФИ, Шаг в будущее от Баумана и... Крч, много! В новогодние скидки были куплены билеты на ВСЕ очные этапы, куда было ощущение, что написал неплохо. В какой то момент я ездил каждые выходные в Москву и задавал только один вопрос: \"Предмет?\" Этого было достаточно, чтобы мозг переключился с одного набора скиллов на другой. Не буду вдаваться в подробности каждой олимпиады, но я смог. Вконце апреля я понял, что физику и математику я могу сдавать спустя рукава. Призер олимпиады ИТМО по математике, победитель и призёр двух олимпиад по физике и призёр олимпиады по комплексу математика-физика. Как показал, скорректированный по результатам олимпиад, список вузов, информатика была мне теперь не нужна и оставался только один критичный ЕГЭ - русский.\n",
            "\n",
            "Адаптивный порог: 0.6235\n",
            "Активные метки:\n",
            "- topic_75 (вероятность: 0.8639)\n",
            "- topic_131 (вероятность: 0.8907)\n",
            "\n",
            "Введите текст для классификации (или 'exit' для выхода):\n",
            ">> Здравствуйте всем! Хочу услышать ваше мнение по поводу адекватности и соответствия возрастным нормам домашних заданий по математике, которые наша учительница задает детям в совершенно обычной школе. В данный момент дети учатся в третьем классе и задания на фото - это задания за первый, второй третий классы. Задаются они, как правило, на один- два, максимум три дня, причем помимо заданий из рабочей тетради. Цель таблиц с бесчисленным количеством примеров, по словам учителя - зрительное запоминание, так, чтобы не думая, ребенок писал ответ, потому что у него картинка с ответом вылезла перед глазами. У меня есть сомнения по поводу необходимости и безопасности таких заданий для наших детей. Особенно после последнего родительского собрания, где учитель обвинял нас, родителей, что мы не следим за здоровьем своих детей, ибо в В классе за четверть пропущено 160 занятий, в Б - 200, а у нас - 800. Что то мне подсказывает, что это не спроста. Хочу еще добавить, что такие задания мы получаем систематически, 2-3 раза в н делю. Задания с картинками за первый- второй класс были неотъемлемой частью каждого домашнего задания. По остальным предметам таже картина. Должно быть решено все, что есть в учебнике, в рабочих тетрадях, и все дополнительные задания, которые она берет непонятно откуда. Если что- нибудь не решено, она задолбит писать в дневнике, в тетрадях, на учебниках напоминания. И в конце концов будет оставлять после уроков дописывать все долги. Дотошность феноменальная. Оценки в дневник ставит по всем предметам каждый день.\n",
            "\n",
            "Адаптивный порог: 0.6929\n",
            "Активные метки:\n",
            "- topic_27 (вероятность: 0.9899)\n",
            "- topic_31 (вероятность: 0.7152)\n",
            "- topic_36 (вероятность: 0.8444)\n",
            "\n",
            "Введите текст для классификации (или 'exit' для выхода):\n",
            ">> Когда же экзамен совсем не удавалось сдать, приходил на помощь “чернокнижник”, который за какие-то там 11 000 (!) рублей мог достать тройку по любому предмету. И он абсолютно не стеснялся забирать у вас деньги и зачетку прям под камерами видеонаблюдения института. Вопрос: эти камеры были муляжом или руководству вуза все это было известно? Методисты факультетов тоже не терялись. Правда, если “чернокнижник” помогал всем желающим, то методисты подходили к вопросу “выборочно”: принимали студентов только по рекомендациям. Цена вопроса, соответственно, была пониже, около 8000-8500 рублей за зачет/экзамен.\n",
            "\n",
            "Адаптивный порог: 0.6691\n",
            "Активные метки:\n",
            "- topic_72 (вероятность: 0.9558)\n",
            "- topic_84 (вероятность: 0.9064)\n",
            "- topic_86 (вероятность: 0.7897)\n",
            "\n",
            "Введите текст для классификации (или 'exit' для выхода):\n",
            ">> Интересует стипендия на бюджете или кто сколько дает сверху? Поступили на бюджет ВШЭ и я если честно была очень удивлена, оказалось, что стипендию там платят в размере 1800 рублей в месяц.. это у всех так? или мы где-то заявление не написали какое ? ------и в институтах детям денег вообще из какого расчета даете? ну так, чтобы на нужды молодежи хватило\n",
            "\n",
            "Адаптивный порог: 0.4444\n",
            "Активные метки:\n",
            "- topic_71 (вероятность: 0.6348)\n",
            "- topic_81 (вероятность: 0.5673)\n",
            "\n",
            "Введите текст для классификации (или 'exit' для выхода):\n",
            ">> В хороших вузах низкая стипендия, им привлекать лучших не надо. Вот в тертьесортных и по 20тр предлагают хорошо сдавшим егэ... В институтах детям (дочь 2 курс Вышка) не даем уже денег, она подрабатывает. Вуз кстати постоянно предлагает варианты.\n",
            "\n",
            "Адаптивный порог: 0.6809\n",
            "Активные метки:\n",
            "- topic_67 (вероятность: 0.9727)\n",
            "- topic_79 (вероятность: 0.8610)\n",
            "\n",
            "Введите текст для классификации (или 'exit' для выхода):\n",
            ">> Проработала 15 лет в университете (Кемеровский государственный). Про зарплату тогда особо не думала - муж содержал семью, работала в удовольствие, причем у нас вся кафедра такая была - работа, как хобби, ибо такие зарплаты серьезно воспринимать нельзя)) уволилась в 2015-м году с должности старшего преподавателя со ставкой 10000₽. Сейчас зарплаты там выросли, но не особо. А недавно мне пришло письмо счастья из пенсионного: моя пенсия будет 8800₽)) рассказала об этом одной ученице, ей тоже пришло такое же письмо с такой же пенсией, а она ни дня в своей жизни не работала))))\n",
            "\n",
            "Адаптивный порог: 0.6769\n",
            "Активные метки:\n",
            "- topic_65 (вероятность: 0.8406)\n",
            "- topic_79 (вероятность: 0.9300)\n",
            "- topic_81 (вероятность: 0.9669)\n",
            "\n",
            "Введите текст для классификации (или 'exit' для выхода):\n",
            ">> Зп в вузах понятие растяжимое. Есть на контрактах с почасовой, есть штатные сотрудники. У штатных сотрудников есть базовая ставка на которую навешивается много чего. Поэтому вопрос максимально не корректный и ответы будут слабо что-то показывающие. Я сам работал в вузе на контракте (часовая оплата была очень не плохая для того времени) и отец у меня преподавал у него зп от месяца к месяцу могла серьёзно отличаться.\n",
            "\n",
            "Адаптивный порог: 0.6444\n",
            "Активные метки:\n",
            "- topic_65 (вероятность: 0.6603)\n",
            "- topic_79 (вероятность: 0.8886)\n",
            "- topic_81 (вероятность: 0.9206)\n",
            "\n",
            "Введите текст для классификации (или 'exit' для выхода):\n",
            ">> – Капитального ремонта там не было больше 75 лет, – рассказала она. – За это время здание изрядно обветшало. На стенах глубокие трещины, а элементы фасада начали разрушаться. Внутри школа выглядят ничуть не лучше. Штукатурка в кабинетах осыпается, в них очень холодно. Детям приходится сидеть на занятиях в теплой одежде. Кроме того, из-за изношенных коммуникаций в школе регулярно отключают горячую воду. Школьников в самый разгар учебного процесса могут отправить домой.\n",
            "\n",
            "Адаптивный порог: 0.6941\n",
            "Активные метки:\n",
            "- topic_24 (вероятность: 0.9916)\n",
            "- topic_30 (вероятность: 0.9519)\n",
            "\n",
            "Введите текст для классификации (или 'exit' для выхода):\n",
            ">> Всем привет, сдавала химию, русский, базовую математику и биологию. Сразу хочу сказать, что я особо не готовилась, поэтому баллы не такие высокие как хотелось бы. Химия В школе решала варианты Дацук и Степенина, результаты были не очень хорошими, в среднем 40-45 баллов. Дома решала тесты Широкопояса, также на 40-45 баллов. За неделю до экзамена купила курс в Вебиуме и начала плотно готовиться. За день до егэ решила вариант Добротина на 75 баллов. Итог: 73 балла. Русский язык В 10 классе стала призером перечневой олимпиады, поэтому моей главной задачей было сдать на 75+. В школе решала пробники на 73-76 баллов. Дома не готовилась. С сочинением особых проблем не возникало, обычно писала на 20-22 балла (на экзамене написала на 21). Итог: 82 балла, олимпиаду подтвердила, чему очень рада. Базовая математика Здесь все просто, в школе иногда решали варианты, дома ничего не решала. Так как я не медалистка, особого смысла готовиться на 5 у меня не было. Итог: оценка 5, две ошибки в тесте. Биология В феврале и марте покупала курс экстра в вебиуме, хорошо выучила анатомию и экологию. В школе решала пробники на 60-65 баллов. Перед егэ купила рефреш в вебиуме, это очень помогло мне освежить имеющиеся знания и узнать что-то новое. На самом экзамене был вариант не из легких, в 28 задаче поставили 1/3, причину я до сих пор не знаю, так как на аппеляцию решила не подавать. Итог: 62 балла. Всего у меня получилось 240 баллов (235 за егэ и 5 за волонтерство). Брала целевое в своём городе, этих баллов должно хватить.\n",
            "\n",
            "Адаптивный порог: 0.6971\n",
            "Активные метки:\n",
            "- topic_27 (вероятность: 0.9903)\n",
            "- topic_36 (вероятность: 0.9959)\n",
            "\n",
            "Введите текст для классификации (или 'exit' для выхода):\n"
          ]
        }
      ],
      "source": [
        "import torch\n",
        "from transformers import BertTokenizer, BertForSequenceClassification\n",
        "import numpy as np\n",
        "import os\n",
        "\n",
        "# 1. Загрузка обученной модели и токенизатора\n",
        "model_path = os.path.abspath(\"./rubert_multilabel_classifier\")  # Абсолютный путь\n",
        "\n",
        "try:\n",
        "    tokenizer = BertTokenizer.from_pretrained(model_path, local_files_only=True)\n",
        "    model = BertForSequenceClassification.from_pretrained(model_path, num_labels=132, local_files_only=True)\n",
        "except Exception as e:\n",
        "    print(f\"Ошибка при загрузке модели: {e}\")\n",
        "    exit()\n",
        "\n",
        "# Перемещение модели на GPU, если доступно\n",
        "device = torch.device(\"cuda\" if torch.cuda.is_available() else \"cpu\")\n",
        "model.to(device)\n",
        "model.eval()\n",
        "\n",
        "# 2. Функция для предсказания меток с адаптивным порогом\n",
        "def predict(text, model, tokenizer, device, max_length=150, scaling_factor=0.7):\n",
        "    \"\"\"\n",
        "    Выполняет предсказание меток с использованием адаптивного порога.\n",
        "\n",
        "    :param text: Входной текст для классификации.\n",
        "    :param model: Обученная модель BERT.\n",
        "    :param tokenizer: Токенизатор для модели.\n",
        "    :param device: Устройство (GPU или CPU).\n",
        "    :param max_length: Максимальная длина последовательности.\n",
        "    :param scaling_factor: Коэффициент масштабирования для адаптивного порога.\n",
        "    :return: active_labels - индексы активных меток, probs - вероятности всех меток.\n",
        "    \"\"\"\n",
        "    # Токенизация текста\n",
        "    encoding = tokenizer(\n",
        "        text,\n",
        "        padding=\"max_length\",\n",
        "        truncation=True,\n",
        "        max_length=max_length,\n",
        "        return_tensors=\"pt\"\n",
        "    )\n",
        "\n",
        "    # Перемещение данных на устройство (GPU или CPU)\n",
        "    input_ids = encoding[\"input_ids\"].to(device)\n",
        "    attention_mask = encoding[\"attention_mask\"].to(device)\n",
        "\n",
        "    # Предсказание\n",
        "    with torch.no_grad():\n",
        "        outputs = model(input_ids=input_ids, attention_mask=attention_mask)\n",
        "        logits = outputs.logits\n",
        "\n",
        "    # Преобразование логитов в вероятности с помощью сигмоиды\n",
        "    probs = torch.sigmoid(logits).cpu().numpy()[0]\n",
        "\n",
        "    # Адаптивный порог: максимальная вероятность * коэффициент масштабирования\n",
        "    adaptive_threshold = np.max(probs) * scaling_factor\n",
        "\n",
        "    # Определение активных меток (вероятность > адаптивный порог)\n",
        "    active_labels = np.where(probs > adaptive_threshold)[0]\n",
        "\n",
        "    return active_labels, probs, adaptive_threshold\n",
        "\n",
        "# 3. Сопоставление индексов меток с их названиями\n",
        "label_names = [f\"topic_{i+1}\" for i in range(132)]  # Пример: topic_1, topic_2, ..., topic_132\n",
        "\n",
        "# 4. Интерактивный ввод текста\n",
        "while True:\n",
        "    print(\"\\nВведите текст для классификации (или 'exit' для выхода):\")\n",
        "    user_input = input(\">> \")\n",
        "\n",
        "    if user_input.lower() == \"exit\":\n",
        "        print(\"Выход...\")\n",
        "        break\n",
        "\n",
        "    # Получение предсказаний\n",
        "    active_labels, probs, adaptive_threshold = predict(user_input, model, tokenizer, device)\n",
        "\n",
        "    # Вывод активных меток\n",
        "    print(f\"\\nАдаптивный порог: {adaptive_threshold:.4f}\")\n",
        "    if len(active_labels) > 0:\n",
        "        print(\"Активные метки:\")\n",
        "        for label_idx in active_labels:\n",
        "            print(f\"- {label_names[label_idx]} (вероятность: {probs[label_idx]:.4f})\")\n",
        "    else:\n",
        "        print(\"Нет активных меток.\")"
      ]
    }
  ],
  "metadata": {
    "accelerator": "GPU",
    "colab": {
      "gpuType": "A100",
      "machine_shape": "hm",
      "provenance": []
    },
    "kernelspec": {
      "display_name": "Python 3",
      "name": "python3"
    },
    "language_info": {
      "name": "python"
    },
    "widgets": {
      "application/vnd.jupyter.widget-state+json": {
        "5196e4fd534e43c5be2fa87cf61a1650": {
          "model_module": "@jupyter-widgets/base",
          "model_module_version": "1.2.0",
          "model_name": "LayoutModel",
          "state": {
            "_model_module": "@jupyter-widgets/base",
            "_model_module_version": "1.2.0",
            "_model_name": "LayoutModel",
            "_view_count": null,
            "_view_module": "@jupyter-widgets/base",
            "_view_module_version": "1.2.0",
            "_view_name": "LayoutView",
            "align_content": null,
            "align_items": "center",
            "align_self": null,
            "border": null,
            "bottom": null,
            "display": "flex",
            "flex": null,
            "flex_flow": "column",
            "grid_area": null,
            "grid_auto_columns": null,
            "grid_auto_flow": null,
            "grid_auto_rows": null,
            "grid_column": null,
            "grid_gap": null,
            "grid_row": null,
            "grid_template_areas": null,
            "grid_template_columns": null,
            "grid_template_rows": null,
            "height": null,
            "justify_content": null,
            "justify_items": null,
            "left": null,
            "margin": null,
            "max_height": null,
            "max_width": null,
            "min_height": null,
            "min_width": null,
            "object_fit": null,
            "object_position": null,
            "order": null,
            "overflow": null,
            "overflow_x": null,
            "overflow_y": null,
            "padding": null,
            "right": null,
            "top": null,
            "visibility": null,
            "width": "50%"
          }
        },
        "eb2691426d9a43bf80d79f5165baeca8": {
          "model_module": "@jupyter-widgets/controls",
          "model_module_version": "1.5.0",
          "model_name": "VBoxModel",
          "state": {
            "_dom_classes": [],
            "_model_module": "@jupyter-widgets/controls",
            "_model_module_version": "1.5.0",
            "_model_name": "VBoxModel",
            "_view_count": null,
            "_view_module": "@jupyter-widgets/controls",
            "_view_module_version": "1.5.0",
            "_view_name": "VBoxView",
            "box_style": "",
            "children": [],
            "layout": "IPY_MODEL_5196e4fd534e43c5be2fa87cf61a1650"
          }
        }
      }
    }
  },
  "nbformat": 4,
  "nbformat_minor": 0
}